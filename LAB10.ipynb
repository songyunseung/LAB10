{
 "cells": [
  {
   "cell_type": "code",
   "execution_count": 1,
   "id": "9585fa48",
   "metadata": {},
   "outputs": [
    {
     "name": "stdout",
     "output_type": "stream",
     "text": [
      "200 - 100 =  100\n"
     ]
    }
   ],
   "source": [
    "def sub(x,y):\n",
    "    return x-y\n",
    "a = sub(200,100)\n",
    "print(\"200 - 100 = \",a)"
   ]
  },
  {
   "cell_type": "code",
   "execution_count": 2,
   "id": "d356cdb5",
   "metadata": {},
   "outputs": [
    {
     "name": "stdout",
     "output_type": "stream",
     "text": [
      "200 - 100 =  100\n"
     ]
    }
   ],
   "source": [
    "sub = lambda x,y : x - y\n",
    "print(\"200 - 100 = \",sub(200,100))"
   ]
  },
  {
   "cell_type": "code",
   "execution_count": 13,
   "id": "da842f14",
   "metadata": {},
   "outputs": [
    {
     "name": "stdout",
     "output_type": "stream",
     "text": [
      "even_list =  [2, 4, 6, 8]\n",
      "even_list =  [2, 4, 6, 8]\n",
      "odd_list =  [1, 3, 5, 7, 9]\n",
      "odd_list =  [1, 3, 5, 7, 9]\n"
     ]
    }
   ],
   "source": [
    "n_list = [1,2,3,4,5,6,7,8,9]\n",
    "even_list = []\n",
    "for a in filter(lambda x : x % 2 == 0, n_list):\n",
    "    even_list.append(a)\n",
    "print(\"even_list = \",even_list)\n",
    "even_list = list(filter(lambda x : x % 2 == 0,n_list))\n",
    "print(\"even_list = \",even_list)\n",
    "\n",
    "\n",
    "odd_list = []\n",
    "for a in filter(lambda x : x % 2 != 0, n_list):\n",
    "     odd_list.append(a)\n",
    "print(\"odd_list = \" ,odd_list)\n",
    "odd_list = list(filter(lambda x: x % 2 != 0, n_list))\n",
    "print(\"odd_list = \" ,odd_list)"
   ]
  },
  {
   "cell_type": "code",
   "execution_count": 16,
   "id": "125dc1b1",
   "metadata": {},
   "outputs": [
    {
     "name": "stdout",
     "output_type": "stream",
     "text": [
      "upper_a_list =  ['A', 'B', 'C', 'D']\n",
      "upper_a_list =  ['A', 'B', 'C', 'D']\n"
     ]
    }
   ],
   "source": [
    "a_list = ['a', 'b', 'c', 'd']\n",
    "def to_upper(x):\n",
    "    return x.upper()\n",
    "upper_a_list = list(map(to_upper,a_list))\n",
    "print(\"upper_a_list = \",upper_a_list)\n",
    "upper_a_list = list(map(lambda x : x.upper(), a_list))\n",
    "print(\"upper_a_list = \",upper_a_list)"
   ]
  },
  {
   "cell_type": "code",
   "execution_count": 18,
   "id": "629c6b81",
   "metadata": {},
   "outputs": [
    {
     "name": "stdout",
     "output_type": "stream",
     "text": [
      "입력 값의 두 배:  [20, 40, 60]\n",
      "입력 값의 세 배:  [30, 60, 90]\n",
      "입력 값의 두 배:  [20, 40, 60]\n",
      "입력 값의 세 배:  [30, 60, 90]\n"
     ]
    }
   ],
   "source": [
    "n_list = [10,20,30]\n",
    "def twice(x):\n",
    "    return x*2\n",
    "def triple(x):\n",
    "    return x*3\n",
    "twice_list = list(map(twice,n_list))\n",
    "triple_list = list(map(triple,n_list))\n",
    "print(\"입력 값의 두 배: \",twice_list)\n",
    "print('입력 값의 세 배: ',triple_list)\n",
    "twice_list = []\n",
    "triple_list =[]\n",
    "twice_list = list(map(lambda x : x*2,n_list))\n",
    "triple_list = list(map(lambda x: x*3,n_list))\n",
    "print(\"입력 값의 두 배: \",twice_list)\n",
    "print('입력 값의 세 배: ',triple_list)"
   ]
  },
  {
   "cell_type": "code",
   "execution_count": 27,
   "id": "ca2388ca",
   "metadata": {},
   "outputs": [
    {
     "name": "stdout",
     "output_type": "stream",
     "text": [
      "1에서 100까지의 합 :  5050\n"
     ]
    }
   ],
   "source": [
    "from functools import reduce\n",
    "list1 = []\n",
    "for i in range(1,101):\n",
    "    list1.append(i)\n",
    "n = reduce(lambda x,y: x+y,list1)\n",
    "print(\"1에서 100까지의 합 : \",n)"
   ]
  },
  {
   "cell_type": "code",
   "execution_count": 28,
   "id": "576d86bc",
   "metadata": {},
   "outputs": [
    {
     "name": "stdout",
     "output_type": "stream",
     "text": [
      "10! =  3628800\n"
     ]
    }
   ],
   "source": [
    "list1 = []\n",
    "for i in range(1,11):\n",
    "    list1.append(i)\n",
    "n = reduce(lambda x,y : x * y,list1)\n",
    "print(\"10! = \",n)"
   ]
  },
  {
   "cell_type": "code",
   "execution_count": 29,
   "id": "c38f8c3a",
   "metadata": {},
   "outputs": [
    {
     "name": "stdout",
     "output_type": "stream",
     "text": [
      "cubic =  [1, 8, 27, 64, 125, 216, 343, 512, 729, 1000]\n"
     ]
    }
   ],
   "source": [
    "cubic = [x**3 for x in range(1,11)]\n",
    "print(\"cubic = \",cubic)"
   ]
  },
  {
   "cell_type": "code",
   "execution_count": 31,
   "id": "6ebe3d75",
   "metadata": {},
   "outputs": [
    {
     "name": "stdout",
     "output_type": "stream",
     "text": [
      "a =  ['welcome', 'to', 'the', 'python', 'world']\n",
      "first_a =  ['w', 't', 't', 'p', 'w']\n"
     ]
    }
   ],
   "source": [
    "a = ['welcome', 'to', 'the', 'python', 'world']\n",
    "print(\"a = \",a)\n",
    "first_a = [x[0] for x in a]\n",
    "print(\"first_a = \",first_a)"
   ]
  },
  {
   "cell_type": "code",
   "execution_count": 33,
   "id": "ea4c113b",
   "metadata": {},
   "outputs": [
    {
     "name": "stdout",
     "output_type": "stream",
     "text": [
      "cubic =  [1, 8, 27, 64, 125, 216, 343, 512, 729, 1000]\n"
     ]
    }
   ],
   "source": [
    "cubic = [x**3 for x in range(1,11) if x <= 500]\n",
    "print(\"cubic = \", cubic)"
   ]
  },
  {
   "cell_type": "code",
   "execution_count": 34,
   "id": "b152cb4b",
   "metadata": {},
   "outputs": [
    {
     "name": "stdout",
     "output_type": "stream",
     "text": [
      "['1', '2', '3', '4']\n"
     ]
    }
   ],
   "source": [
    "st = 'Hello 1234 Python'\n",
    "a = [x for x in st  if x.isdigit()]\n",
    "print(a)"
   ]
  },
  {
   "cell_type": "code",
   "execution_count": 54,
   "id": "2552d466",
   "metadata": {},
   "outputs": [
    {
     "name": "stdout",
     "output_type": "stream",
     "text": [
      "0 2 4 6 8 "
     ]
    }
   ],
   "source": [
    "class EvenCounter:\n",
    "    def __init__(self,n = 0):\n",
    "        self.n = n\n",
    "    def __iter__(self):\n",
    "        return self\n",
    "    def __next__(self):\n",
    "        if self.n % 2 == 0:\n",
    "            t = self.n\n",
    "            self.n += 2\n",
    "            return t\n",
    "        raise StopIteration\n",
    "my_even = EvenCounter()\n",
    "print(my_even.__next__(), end = ' ')\n",
    "print(my_even.__next__(), end = ' ')\n",
    "print(my_even.__next__(), end = ' ')\n",
    "print(my_even.__next__(), end = ' ')\n",
    "print(my_even.__next__(), end = ' ')"
   ]
  },
  {
   "cell_type": "code",
   "execution_count": 50,
   "id": "e8849b79",
   "metadata": {},
   "outputs": [
    {
     "name": "stdout",
     "output_type": "stream",
     "text": [
      "0 2 4 6 8 10 12 14 16 18 20 "
     ]
    }
   ],
   "source": [
    "class EvenCounter:\n",
    "    def __init__(self,n = 0):\n",
    "        self.n = n\n",
    "    def __iter__(self):\n",
    "        return self\n",
    "    def __next__(self):\n",
    "        if self.n % 2 == 0 and self.n <= 20:\n",
    "            t = self.n\n",
    "            self.n += 2\n",
    "            return t\n",
    "        raise StopIteration\n",
    "my_even = EvenCounter()\n",
    "\n",
    "for i in my_even:\n",
    "    print(i, end = ' ')\n"
   ]
  },
  {
   "cell_type": "code",
   "execution_count": 55,
   "id": "776318ba",
   "metadata": {},
   "outputs": [
    {
     "data": {
      "text/plain": [
       "['Welcome', 'to', 'Busan', 'Metropolitan', 'City.']"
      ]
     },
     "execution_count": 55,
     "metadata": {},
     "output_type": "execute_result"
    }
   ],
   "source": [
    "txt = 'Welcome to Busan Metropolitan City.'\n",
    "txt.split()"
   ]
  },
  {
   "cell_type": "code",
   "execution_count": 56,
   "id": "113f27e5",
   "metadata": {},
   "outputs": [
    {
     "data": {
      "text/plain": [
       "['Hello', ' My name is DongMin', 'Good to see you again']"
      ]
     },
     "execution_count": 56,
     "metadata": {},
     "output_type": "execute_result"
    }
   ],
   "source": [
    "greet = 'Hello, My name is DongMin,Good to see you again'\n",
    "greet.split(',')"
   ]
  },
  {
   "cell_type": "code",
   "execution_count": 57,
   "id": "51456c71",
   "metadata": {},
   "outputs": [
    {
     "data": {
      "text/plain": [
       "['Apple', 'Banana', 'Melon', 'Orange']"
      ]
     },
     "execution_count": 57,
     "metadata": {},
     "output_type": "execute_result"
    }
   ],
   "source": [
    "fruits ='Apple|Banana|Melon|Orange'\n",
    "fruits.split('|')"
   ]
  },
  {
   "cell_type": "code",
   "execution_count": 60,
   "id": "3683b4d0",
   "metadata": {},
   "outputs": [
    {
     "name": "stdout",
     "output_type": "stream",
     "text": [
      "<class 'function'>\n",
      "<class 'function'>\n"
     ]
    }
   ],
   "source": [
    "f1 = lambda x: x*x\n",
    "print(type(f1))\n",
    "def f2(x):\n",
    "    return x*x\n",
    "print(type(f2))"
   ]
  },
  {
   "cell_type": "code",
   "execution_count": 66,
   "id": "5f2bb684",
   "metadata": {},
   "outputs": [
    {
     "name": "stdout",
     "output_type": "stream",
     "text": [
      "[('Half', 'HALF'), ('of', 'OF'), ('my', 'MY'), ('heart', 'HEART'), ('is', 'IS'), ('in', 'IN'), ('Havana', 'HAVANA')]\n",
      "[('Half', 'HALF'), ('of', 'OF'), ('my', 'MY'), ('heart', 'HEART'), ('is', 'IS'), ('in', 'IN'), ('Havana', 'HAVANA')]\n"
     ]
    }
   ],
   "source": [
    "lyrics = 'Half of my heart is in Havana'\n",
    "list1 = []\n",
    "for i in lyrics.split():\n",
    "    s = i.upper()\n",
    "    t = (i,s)\n",
    "    list1.append(t)\n",
    "print(list1)\n",
    "list1 =[]\n",
    "list1 =[(x,x.upper()) for x in lyrics.split()]\n",
    "print(list1)"
   ]
  },
  {
   "cell_type": "code",
   "execution_count": 75,
   "id": "535fbd08",
   "metadata": {},
   "outputs": [
    {
     "name": "stdout",
     "output_type": "stream",
     "text": [
      "n_list =  [-22.3, 29.44, 902.2, 45.7, -887.1, -56.3]\n",
      "new_list -  [29, 902, 45]\n",
      "new_list2 -  [29, 902, 45]\n",
      "new_list3 =  [29, 902, 45]\n"
     ]
    }
   ],
   "source": [
    "n_list = [-22.3, 29.44, 902.2, 45.7, -887.1, -56.3]\n",
    "print(\"n_list = \",n_list)\n",
    "new_list = []\n",
    "for i in n_list:\n",
    "    if i >0:\n",
    "        new_list.append(int(i))\n",
    "print(\"new_list - \", new_list)\n",
    "new_list2 = list(map(int,filter(lambda x : x>0, n_list)))\n",
    "print(\"new_list2 - \", new_list2)\n",
    "new_list3 = [int(x) for x in n_list if x > 0]\n",
    "print(\"new_list3 = \",new_list3)"
   ]
  },
  {
   "cell_type": "code",
   "execution_count": 78,
   "id": "f1e9684e",
   "metadata": {},
   "outputs": [
    {
     "name": "stdout",
     "output_type": "stream",
     "text": [
      "new_list =  [42, 84]\n",
      "new_list1 =  [42, 84]\n",
      "new_list3 =  [42, 84]\n"
     ]
    }
   ],
   "source": [
    "new_list  = []\n",
    "for i in range(1,101):\n",
    "    if i % 6 == 0 and i % 7 == 0:\n",
    "        new_list.append(i)\n",
    "print(\"new_list = \", new_list)\n",
    "new_list1 = list(filter(lambda x : x% 6 == 0 and x%7 == 0, range(1,101)))\n",
    "print(\"new_list1 = \",new_list1)\n",
    "new_list3 = [x for x in range(1,101) if x % 6 == 0 if x % 7 == 0]\n",
    "print(\"new_list3 = \",new_list3)"
   ]
  },
  {
   "cell_type": "code",
   "execution_count": 90,
   "id": "c67a4c03",
   "metadata": {},
   "outputs": [
    {
     "name": "stdout",
     "output_type": "stream",
     "text": [
      "num_list =  ['224', '587', '29', '37']\n",
      "num_list1 =  ['224', '587', '29', '37']\n"
     ]
    }
   ],
   "source": [
    "test_list = ['No. 224', 'No. 587', 'No. 29', 'No. 37']\n",
    "num_list = []\n",
    "for i in test_list:\n",
    "    list1 = i.split()\n",
    "    for j in list1:\n",
    "        if j.isdigit():\n",
    "            num_list.append(j)\n",
    "print(\"num_list = \",num_list)\n",
    "num_list1 = [y for x in test_list for y in x.split() if y.isdigit()]\n",
    "print(\"num_list1 = \",num_list1)"
   ]
  },
  {
   "cell_type": "code",
   "execution_count": 98,
   "id": "16ce24c5",
   "metadata": {},
   "outputs": [
    {
     "name": "stdout",
     "output_type": "stream",
     "text": [
      "[(1, 4), (2, 5), (2, 3), (2, 1), (4, 7)]\n",
      "[(2, 1), (2, 3), (1, 4), (2, 5), (4, 7)]\n"
     ]
    }
   ],
   "source": [
    "a = [(2,5), (1,4), (4,7), (2,3), (2,1)]\n",
    "print(sorted(a, key = lambda info : info[0]))\n",
    "print(sorted(a, key = lambda info : info[1]))\n"
   ]
  }
 ],
 "metadata": {
  "kernelspec": {
   "display_name": "Python 3 (ipykernel)",
   "language": "python",
   "name": "python3"
  },
  "language_info": {
   "codemirror_mode": {
    "name": "ipython",
    "version": 3
   },
   "file_extension": ".py",
   "mimetype": "text/x-python",
   "name": "python",
   "nbconvert_exporter": "python",
   "pygments_lexer": "ipython3",
   "version": "3.9.12"
  }
 },
 "nbformat": 4,
 "nbformat_minor": 5
}
